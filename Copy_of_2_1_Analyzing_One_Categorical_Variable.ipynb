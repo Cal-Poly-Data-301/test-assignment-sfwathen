{
  "nbformat": 4,
  "nbformat_minor": 0,
  "metadata": {
    "kernelspec": {
      "display_name": "Python 3",
      "language": "python",
      "name": "python3"
    },
    "language_info": {
      "codemirror_mode": {
        "name": "ipython",
        "version": 3
      },
      "file_extension": ".py",
      "mimetype": "text/x-python",
      "name": "python",
      "nbconvert_exporter": "python",
      "pygments_lexer": "ipython3",
      "version": "3.6.8"
    },
    "colab": {
      "name": "Copy of 2.1 Analyzing One Categorical Variable.ipynb",
      "provenance": [],
      "include_colab_link": true
    }
  },
  "cells": [
    {
      "cell_type": "markdown",
      "metadata": {
        "id": "view-in-github",
        "colab_type": "text"
      },
      "source": [
        "<a href=\"https://colab.research.google.com/github/sfwathen/test-assignment-sfwathen/blob/main/Copy_of_2_1_Analyzing_One_Categorical_Variable.ipynb\" target=\"_parent\"><img src=\"https://colab.research.google.com/assets/colab-badge.svg\" alt=\"Open In Colab\"/></a>"
      ]
    },
    {
      "cell_type": "markdown",
      "metadata": {
        "id": "0bNZijfPJtYw"
      },
      "source": [
        "Recall from Chapter 1 that a **categorical variable** is a variable that can take on one of a limited set of values (which are called _levels_). In this chapter, we will discuss ways to analyze categorical variables. Throughout this chapter, we use the Titanic data set as a working example. This data set contains information about all of the people who were aboard the RMS Titanic when it sank in 1912, including both passengers and crew. Let's start by reading in this data set."
      ]
    },
    {
      "cell_type": "code",
      "metadata": {
        "id": "_YFx6GgqJtYz"
      },
      "source": [
        "import pandas as pd\n",
        "\n",
        "data_dir = \"http://dlsun.github.io/pods/data/\"\n",
        "df_titanic = pd.read_csv(data_dir + \"titanic.csv\")\n",
        "df_titanic"
      ],
      "execution_count": null,
      "outputs": []
    },
    {
      "cell_type": "markdown",
      "metadata": {
        "id": "c6RRWPfWJtY5"
      },
      "source": [
        "The categorical variables in this data set are:\n",
        "- `gender` (male or female)\n",
        "- `class`: what class they were in (1st, 2nd, or 3rd) or what type of crew member they were\n",
        "- `embarked`: where they embarked (Belfast, Southampton, Cherbourg, or Queenstown)\n",
        "- `country`: their country of origin\n",
        "- `ticketno`: the ticket number\n",
        "- `survived`: whether or not they survived the disaster\n",
        "\n",
        "Note that `age` and `fare` are quantitative variables. It is tempting to consider `name` a categorical variable, but it is not, since (almost) every person has a unique name. In order for a variable to be categorical, it must take on a _limited_ set of values, ideally with each level appearing multiple times in the data set. Otherwise, the analyses that we describe in this chapter will not be very meaningful."
      ]
    },
    {
      "cell_type": "markdown",
      "metadata": {
        "id": "XRBPQWpZJtZm"
      },
      "source": [
        "# Analyzing One Categorical Variable\n",
        "\n",
        "In this lesson, we focus on a single categorical variable. For a high-level summary of a categorical variable, we can use the `.describe()` command. Note that the behavior of `.describe()` will change, depending on whether `pandas` thinks that the variable is quantitative or categorical, which is why it is important to cast categorical variables to the right type, as we discussed in the previous chapter."
      ]
    },
    {
      "cell_type": "code",
      "metadata": {
        "id": "nru7HFtNJtZn"
      },
      "source": [
        "df_titanic[\"class\"].describe()"
      ],
      "execution_count": null,
      "outputs": []
    },
    {
      "cell_type": "markdown",
      "metadata": {
        "id": "AUwJjfTQJtZt"
      },
      "source": [
        "To completely summarize a single categorical variable, we report the number of times each level appeared, or its **frequency**."
      ]
    },
    {
      "cell_type": "code",
      "metadata": {
        "id": "E4kcGK9TJtZt",
        "colab": {
          "base_uri": "https://localhost:8080/"
        },
        "outputId": "d2ec64d7-9cda-406b-f25b-b857f2d6345f"
      },
      "source": [
        "class_counts = df_titanic[\"class\"].value_counts()\n",
        "class_counts"
      ],
      "execution_count": 25,
      "outputs": [
        {
          "output_type": "execute_result",
          "data": {
            "text/plain": [
              "3rd                 709\n",
              "victualling crew    431\n",
              "engineering crew    324\n",
              "1st                 324\n",
              "2nd                 284\n",
              "restaurant staff     69\n",
              "deck crew            66\n",
              "Name: class, dtype: int64"
            ]
          },
          "metadata": {},
          "execution_count": 25
        }
      ]
    },
    {
      "cell_type": "markdown",
      "metadata": {
        "id": "Bmk5Y7zQJtZw"
      },
      "source": [
        "Notice that the levels are sorted in decreasing order of frequency by default. We can also report the levels in the order they appear in the data set..."
      ]
    },
    {
      "cell_type": "code",
      "metadata": {
        "id": "yEK0-PecJtZx"
      },
      "source": [
        "df_titanic[\"class\"].value_counts(sort=False)"
      ],
      "execution_count": null,
      "outputs": []
    },
    {
      "cell_type": "markdown",
      "metadata": {
        "id": "7P-TqJvrJtZ0"
      },
      "source": [
        "...or in alphabetical order, by sorting the index:"
      ]
    },
    {
      "cell_type": "code",
      "metadata": {
        "id": "w1jjt1nuJtZ0"
      },
      "source": [
        "class_counts.sort_index()"
      ],
      "execution_count": null,
      "outputs": []
    },
    {
      "cell_type": "markdown",
      "metadata": {
        "id": "kCTkd_7OJtZ3"
      },
      "source": [
        "Note that this produces a _new_ `Series` with the index sorted. It does not sort the original `Series` `class_counts`. To sort the original series, we need to specify that the sorting should be done in place, just like we did for `.set_index()` in Chapter 1."
      ]
    },
    {
      "cell_type": "code",
      "metadata": {
        "id": "6tMY5S4CJtZ3",
        "colab": {
          "base_uri": "https://localhost:8080/",
          "height": 182
        },
        "outputId": "a8e62ba5-4391-4257-c853-46f39020e6d3"
      },
      "source": [
        "class_counts.sort_index(inplace=True)\n",
        "class_counts"
      ],
      "execution_count": 24,
      "outputs": [
        {
          "output_type": "error",
          "ename": "NameError",
          "evalue": "ignored",
          "traceback": [
            "\u001b[0;31m---------------------------------------------------------------------------\u001b[0m",
            "\u001b[0;31mNameError\u001b[0m                                 Traceback (most recent call last)",
            "\u001b[0;32m<ipython-input-24-3fd980f0a8f9>\u001b[0m in \u001b[0;36m<module>\u001b[0;34m()\u001b[0m\n\u001b[0;32m----> 1\u001b[0;31m \u001b[0mclass_counts\u001b[0m\u001b[0;34m.\u001b[0m\u001b[0msort_index\u001b[0m\u001b[0;34m(\u001b[0m\u001b[0minplace\u001b[0m\u001b[0;34m=\u001b[0m\u001b[0;32mTrue\u001b[0m\u001b[0;34m)\u001b[0m\u001b[0;34m\u001b[0m\u001b[0;34m\u001b[0m\u001b[0m\n\u001b[0m\u001b[1;32m      2\u001b[0m \u001b[0mclass_counts\u001b[0m\u001b[0;34m\u001b[0m\u001b[0;34m\u001b[0m\u001b[0m\n",
            "\u001b[0;31mNameError\u001b[0m: name 'class_counts' is not defined"
          ]
        }
      ]
    },
    {
      "cell_type": "markdown",
      "metadata": {
        "id": "HBFyIJmYJtZ8"
      },
      "source": [
        "Any other order would require selecting the levels manually, in the desired order."
      ]
    },
    {
      "cell_type": "code",
      "metadata": {
        "id": "Q7vi4FgIJtZ9"
      },
      "source": [
        "cf = class_counts.loc[\n",
        "    [\"1st\", \"2nd\", \"3rd\",\n",
        "     \"deck crew\", \"engineering crew\", \"victualling crew\",\n",
        "     \"restaurant staff\"]\n",
        "]"
      ],
      "execution_count": 36,
      "outputs": []
    },
    {
      "cell_type": "markdown",
      "metadata": {
        "id": "IKNQM_UxJtZ_"
      },
      "source": [
        "This information can be visualized using a **bar chart**."
      ]
    },
    {
      "cell_type": "code",
      "metadata": {
        "id": "1Pr1BpI9JtZ_",
        "colab": {
          "base_uri": "https://localhost:8080/",
          "height": 359
        },
        "outputId": "a7525c28-ce62-49eb-bafd-4c5338a388b8"
      },
      "source": [
        "cf.plot.bar()"
      ],
      "execution_count": 37,
      "outputs": [
        {
          "output_type": "execute_result",
          "data": {
            "text/plain": [
              "<matplotlib.axes._subplots.AxesSubplot at 0x7f2dd6282490>"
            ]
          },
          "metadata": {},
          "execution_count": 37
        },
        {
          "output_type": "display_data",
          "data": {
            "image/png": "[encoded data removed]",
            "text/plain": [
              "<Figure size 432x288 with 1 Axes>"
            ]
          },
          "metadata": {
            "needs_background": "light"
          }
        }
      ]
    },
    {
      "cell_type": "markdown",
      "metadata": {
        "id": "D2ST50hRJtaB"
      },
      "source": [
        "Instead of reporting counts, we can also report proportions or probabilities, or the **relative frequencies**. We can calculate the relative frequencies by specifying `normalize=True` in `.value_counts()`."
      ]
    },
    {
      "cell_type": "code",
      "metadata": {
        "id": "D-3JccgEJtaC",
        "colab": {
          "base_uri": "https://localhost:8080/"
        },
        "outputId": "ca485844-2bad-4bb8-f4fc-8c7314f731fe"
      },
      "source": [
        "class_probs = df_titanic[\"class\"].value_counts(normalize=True)\n",
        "class_probs.sort_index()"
      ],
      "execution_count": 28,
      "outputs": [
        {
          "output_type": "execute_result",
          "data": {
            "text/plain": [
              "1st                 0.146806\n",
              "2nd                 0.128681\n",
              "3rd                 0.321251\n",
              "deck crew           0.029905\n",
              "engineering crew    0.146806\n",
              "restaurant staff    0.031264\n",
              "victualling crew    0.195288\n",
              "Name: class, dtype: float64"
            ]
          },
          "metadata": {},
          "execution_count": 28
        }
      ]
    },
    {
      "cell_type": "markdown",
      "metadata": {
        "id": "g6EKTxBBJtaE"
      },
      "source": [
        "This is equivalent to taking the counts and dividing by their sum."
      ]
    },
    {
      "cell_type": "code",
      "metadata": {
        "id": "Z2X-cH0wJtaF",
        "colab": {
          "base_uri": "https://localhost:8080/"
        },
        "outputId": "ba824450-580e-4c85-c04b-bcd199666749"
      },
      "source": [
        "class_counts / class_counts.sum()"
      ],
      "execution_count": 26,
      "outputs": [
        {
          "output_type": "execute_result",
          "data": {
            "text/plain": [
              "3rd                 0.321251\n",
              "victualling crew    0.195288\n",
              "engineering crew    0.146806\n",
              "1st                 0.146806\n",
              "2nd                 0.128681\n",
              "restaurant staff    0.031264\n",
              "deck crew           0.029905\n",
              "Name: class, dtype: float64"
            ]
          },
          "metadata": {},
          "execution_count": 26
        }
      ]
    },
    {
      "cell_type": "markdown",
      "metadata": {
        "id": "a5wGkd9AJtaH"
      },
      "source": [
        "Notice that the relative frequencies add up to 1.0, by construction. We can report these relative frequencies using probability notation. For example:\n",
        "\n",
        "$$ P(\\text{1st class}) = 0.146806. $$\n",
        "\n",
        "The complete collection of probabilities of all levels of a variable is called the **distribution** of that variable. So the code above calculates the distribution of \"class\" on the Titanic."
      ]
    },
    {
      "cell_type": "markdown",
      "metadata": {
        "id": "swUzbXFGJtaH"
      },
      "source": [
        "The bar chart for relative frequencies (i.e., probabilities) looks qualitatively the same as the bar chart for frequencies (i.e., counts). The only difference is that the scale on the $y$-axis is different."
      ]
    },
    {
      "cell_type": "code",
      "metadata": {
        "id": "LNEzMug6JtaI",
        "colab": {
          "base_uri": "https://localhost:8080/",
          "height": 359
        },
        "outputId": "0e254672-c74e-43e4-f21a-a8540b857e77"
      },
      "source": [
        "class_probs.sort_index().plot.bar()"
      ],
      "execution_count": 29,
      "outputs": [
        {
          "output_type": "execute_result",
          "data": {
            "text/plain": [
              "<matplotlib.axes._subplots.AxesSubplot at 0x7f2dd688d950>"
            ]
          },
          "metadata": {},
          "execution_count": 29
        },
        {
          "output_type": "display_data",
          "data": {
            "image/png": "[encoded data removed]",
            "text/plain": [
              "<Figure size 432x288 with 1 Axes>"
            ]
          },
          "metadata": {
            "needs_background": "light"
          }
        }
      ]
    },
    {
      "cell_type": "markdown",
      "metadata": {
        "id": "T-aiM7OfJtaM"
      },
      "source": [
        "In the next lesson, we will see why it is often more useful to plot the relative frequencies (i.e., probabilities) rather than the frequencies (i.e., counts)."
      ]
    },
    {
      "cell_type": "markdown",
      "metadata": {
        "id": "O1R6vBYwJtaN"
      },
      "source": [
        "## Transforming Categorical Variables\n",
        "\n",
        "A categorical variable can be transformed by mapping its levels to new levels. For example, we may only be interested in whether a person on the titanic was a passenger or a crew member. The variable `class` is too detailed. We can create a new variable, `type`, that is derived from the existing variable `class`. Observations with a `class` of \"1st\", \"2nd\", or \"3rd\" get a value of \"passenger\", while observations with a `class` of \"deck crew\", \"engineering crew\", or \"deck crew\" get a value of \"crew\"."
      ]
    },
    {
      "cell_type": "code",
      "metadata": {
        "id": "gsA4gHKhJtaN"
      },
      "source": [
        "df_titanic[\"type\"] = df_titanic[\"class\"].map({\n",
        "    \"1st\": \"passenger\",\n",
        "    \"2nd\": \"passenger\",\n",
        "    \"3rd\": \"passenger\",\n",
        "    \"victualling crew\": \"crew\",\n",
        "    \"engineering crew\": \"crew\",\n",
        "    \"deck crew\": \"crew\"\n",
        "})\n",
        "\n",
        "df_titanic"
      ],
      "execution_count": null,
      "outputs": []
    },
    {
      "cell_type": "markdown",
      "metadata": {
        "id": "u082T2xbJtaP"
      },
      "source": [
        "Upon closer inspection of this `DataFrame`, we see that we accidentally left out the level \"restaurant staff\" in the input to `.map()`. Any levels that are unspecified will be mapped to the missing value `NaN`.\n",
        "\n",
        "This suggests a more concise way to define the new variable `type`. We can specify only the levels for passengers in the mapping and then fill in the missing values afterwards."
      ]
    },
    {
      "cell_type": "code",
      "metadata": {
        "id": "fL2fQ8O8JtaQ"
      },
      "source": [
        "df_titanic[\"type\"] = df_titanic[\"class\"].map({\n",
        "    \"1st\": \"passenger\",\n",
        "    \"2nd\": \"passenger\",\n",
        "    \"3rd\": \"passenger\"\n",
        "})\n",
        "\n",
        "# Replace all missing values by \"crew\"\n",
        "df_titanic[\"type\"].fillna(\"crew\", inplace=True)\n",
        "\n",
        "df_titanic"
      ],
      "execution_count": null,
      "outputs": []
    },
    {
      "cell_type": "markdown",
      "metadata": {
        "id": "scGxkqKfXVk-"
      },
      "source": [
        "For more complex mappings, the `.map()` method also accepts a function. So the above "
      ]
    },
    {
      "cell_type": "code",
      "metadata": {
        "id": "q2LwDPWMXsXH"
      },
      "source": [
        "def class_to_type(c):\n",
        "  if c in [\"1st\", \"2nd\", \"3rd\"]:\n",
        "    return \"passenger\"\n",
        "  else:\n",
        "    return \"crew\"\n",
        "\n",
        "df_titanic[\"class\"].map(class_to_type)"
      ],
      "execution_count": null,
      "outputs": []
    },
    {
      "cell_type": "markdown",
      "metadata": {
        "id": "oNImjvbGJtaS"
      },
      "source": [
        "We can apply the techniques we learned above to calculate the _distribution_ of this new variable, which only has two levels."
      ]
    },
    {
      "cell_type": "code",
      "metadata": {
        "id": "TEGiAcFAJtaT"
      },
      "source": [
        "df_titanic[\"type\"].value_counts(normalize=True)"
      ],
      "execution_count": null,
      "outputs": []
    },
    {
      "cell_type": "markdown",
      "metadata": {
        "id": "yF-G7EIXJtaV"
      },
      "source": [
        "## Conditional Probabilities\n",
        "\n",
        "What fraction of males were crew members? To answer questions like this, we have to filter the `DataFrame` to include only males.\n",
        "\n",
        "The standard way to filter a `DataFrame` is to use a **boolean mask**. A boolean mask is simply a `Series` of booleans whose index matches the index of the `DataFrame`.\n",
        "\n",
        "The easiest way to create a boolean mask is to use one of the standard comparison operators `==`, `<`, `>`, and `!=` on an existing column in the `DataFrame`. For example, the following code produces a boolean mask that is equal to `True` for the males on the Titanic and `False` otherwise."
      ]
    },
    {
      "cell_type": "code",
      "metadata": {
        "id": "LaR02lRMJtaW"
      },
      "source": [
        "df_titanic[\"gender\"] == \"male\""
      ],
      "execution_count": null,
      "outputs": []
    },
    {
      "cell_type": "markdown",
      "metadata": {
        "id": "fPlvq_-mJtad"
      },
      "source": [
        "Notice the subtle way the equality operator `==` is being used here! We are comparing an array with a string, i.e.,\n",
        "\n",
        "\\begin{align}\n",
        "& \\begin{bmatrix} \\text{\"male\"} \\\\ \\text{\"male\"} \\\\ \\text{\"male\"} \\\\ \\text{\"female\"} \\\\ \\vdots \\\\ \\text{\"male\"} \\end{bmatrix} & \\text{with} & & \\text{\"male\"}.\n",
        "\\end{align}\n",
        "\n",
        "In most programming languages, this comparison would make no sense. An array of strings is obviously not equal to a string. However, `pandas` automatically applies the equality operator to _each_ element of the array. As a result, we get an entire array (i.e., a `Series`) of booleans.\n",
        "\n",
        "\\begin{align}\n",
        " \\begin{bmatrix} \\text{\"male\"} \\\\ \\text{\"male\"} \\\\ \\text{\"male\"} \\\\ \\text{\"female\"} \\\\ \\vdots \\\\ \\text{\"male\"} \\end{bmatrix} &== \\text{\"male\"} &\\Longrightarrow & &  \\begin{bmatrix} \\text{True} \\\\ \\text{True} \\\\ \\text{True} \\\\ \\text{False} \\\\ \\vdots \\\\ \\text{True} \\end{bmatrix}.\n",
        "\\end{align}\n",
        "\n",
        "When an operation is applied to each element of an array, it is said to be **broadcast** over that array.\n",
        "\n",
        "Now, we can use the boolean mask as a filter on the `DataFrame` to extract the rows where the mask equals `True`."
      ]
    },
    {
      "cell_type": "code",
      "metadata": {
        "id": "1O6x3ZoZJtaf"
      },
      "source": [
        "df_male = df_titanic[df_titanic[\"gender\"] == \"male\"]\n",
        "df_male"
      ],
      "execution_count": null,
      "outputs": []
    },
    {
      "cell_type": "markdown",
      "metadata": {
        "id": "1NXzBSg6Jtai"
      },
      "source": [
        "Note that every person in this new `DataFrame` is male. If you inspect the index, you will see that rows 4 and 5 are missing. That is because those passengers were female."
      ]
    },
    {
      "cell_type": "markdown",
      "metadata": {
        "id": "rj6sUAzlJtaj"
      },
      "source": [
        "Finally, we can apply the methods we've learned in this lesson to `df_male` to answer the original question: \"What fraction of males were crew members?\""
      ]
    },
    {
      "cell_type": "code",
      "metadata": {
        "id": "PL5AZdDCJtak"
      },
      "source": [
        "df_male[\"type\"].value_counts(normalize=True)"
      ],
      "execution_count": null,
      "outputs": []
    },
    {
      "cell_type": "markdown",
      "metadata": {
        "id": "h8JMRXKrJtam"
      },
      "source": [
        "It appears that about 50.4657% of the males were crew members. We can notate this using _conditional probability_ notation:\n",
        "\n",
        "$$ P(\\text{crew} | \\text{male}) = 0.504657. $$\n",
        "\n",
        "The bar $|$ is read as \"given\". The information after the bar is the given information. In this case, we were interested in the probability a person was a crew member, \"given\" they were male. That is, after restricting to the male passengers (i.e., using a boolean mask as a filter), we want to know the relative frequency of crew members."
      ]
    },
    {
      "cell_type": "markdown",
      "metadata": {
        "id": "ZGI7SaceJtam"
      },
      "source": [
        "We can also filter on multiple criteria. For example, if we want to know the fraction of male _survivors_ who were crew members, we need to combine two boolean masks, one based on the column `gender` and another based on the column `survived`. The two masks can be combined using the logical operator `&`."
      ]
    },
    {
      "cell_type": "code",
      "metadata": {
        "id": "5-OhXQDXJtan"
      },
      "source": [
        "(df_titanic[\"gender\"] == \"male\") & (df_titanic[\"survived\"] == 1)"
      ],
      "execution_count": null,
      "outputs": []
    },
    {
      "cell_type": "markdown",
      "metadata": {
        "id": "ygJIJbtOJtat"
      },
      "source": [
        "Notice that the logical operator was _broadcast_ (that word again!) over the elements of the two `Series`. In other words, the logical operator was applied to each element, producing a `Series` of booleans.\n",
        "\n",
        "Now we can use this new boolean mask to filter the `DataFrame`, just as we did before."
      ]
    },
    {
      "cell_type": "code",
      "metadata": {
        "id": "KdfY3t-wJtau",
        "colab": {
          "base_uri": "https://localhost:8080/",
          "height": 423
        },
        "outputId": "4913168f-b270-4e10-a649-b4bcdeb17da9"
      },
      "source": [
        "df_male_survivors = df_titanic[(df_titanic[\"gender\"] == \"male\") & (df_titanic[\"survived\"] == 1)]\n",
        "df_male_survivors"
      ],
      "execution_count": 3,
      "outputs": [
        {
          "output_type": "execute_result",
          "data": {
            "text/html": [
              "\n",
              "  <div id=\"df-4beecddb-5b61-4054-9e86-78d164115e27\">\n",
              "    <div class=\"colab-df-container\">\n",
              "      <div>\n",
              "<style scoped>\n",
              "    .dataframe tbody tr th:only-of-type {\n",
              "        vertical-align: middle;\n",
              "    }\n",
              "\n",
              "    .dataframe tbody tr th {\n",
              "        vertical-align: top;\n",
              "    }\n",
              "\n",
              "    .dataframe thead th {\n",
              "        text-align: right;\n",
              "    }\n",
              "</style>\n",
              "<table border=\"1\" class=\"dataframe\">\n",
              "  <thead>\n",
              "    <tr style=\"text-align: right;\">\n",
              "      <th></th>\n",
              "      <th>name</th>\n",
              "      <th>gender</th>\n",
              "      <th>age</th>\n",
              "      <th>class</th>\n",
              "      <th>embarked</th>\n",
              "      <th>country</th>\n",
              "      <th>ticketno</th>\n",
              "      <th>fare</th>\n",
              "      <th>survived</th>\n",
              "      <th>type</th>\n",
              "    </tr>\n",
              "  </thead>\n",
              "  <tbody>\n",
              "    <tr>\n",
              "      <th>5</th>\n",
              "      <td>Abelseth, Mr. Olaus Jørgensen</td>\n",
              "      <td>male</td>\n",
              "      <td>25.000000</td>\n",
              "      <td>3rd</td>\n",
              "      <td>S</td>\n",
              "      <td>United States</td>\n",
              "      <td>348122.0</td>\n",
              "      <td>7.1300</td>\n",
              "      <td>1</td>\n",
              "      <td>passenger</td>\n",
              "    </tr>\n",
              "    <tr>\n",
              "      <th>8</th>\n",
              "      <td>Abī-Al-Munà, Mr. Nāsīf Qāsim</td>\n",
              "      <td>male</td>\n",
              "      <td>27.000000</td>\n",
              "      <td>3rd</td>\n",
              "      <td>C</td>\n",
              "      <td>Lebanon</td>\n",
              "      <td>2699.0</td>\n",
              "      <td>18.1509</td>\n",
              "      <td>1</td>\n",
              "      <td>passenger</td>\n",
              "    </tr>\n",
              "    <tr>\n",
              "      <th>9</th>\n",
              "      <td>Abrahamsson, Mr. Abraham August Johannes</td>\n",
              "      <td>male</td>\n",
              "      <td>20.000000</td>\n",
              "      <td>3rd</td>\n",
              "      <td>S</td>\n",
              "      <td>Finland</td>\n",
              "      <td>3101284.0</td>\n",
              "      <td>7.1806</td>\n",
              "      <td>1</td>\n",
              "      <td>passenger</td>\n",
              "    </tr>\n",
              "    <tr>\n",
              "      <th>13</th>\n",
              "      <td>Aks, Master. Frank Philip</td>\n",
              "      <td>male</td>\n",
              "      <td>0.833333</td>\n",
              "      <td>3rd</td>\n",
              "      <td>S</td>\n",
              "      <td>England</td>\n",
              "      <td>392091.0</td>\n",
              "      <td>9.0700</td>\n",
              "      <td>1</td>\n",
              "      <td>passenger</td>\n",
              "    </tr>\n",
              "    <tr>\n",
              "      <th>22</th>\n",
              "      <td>Allison, Master. Hudson Trevor</td>\n",
              "      <td>male</td>\n",
              "      <td>0.916667</td>\n",
              "      <td>1st</td>\n",
              "      <td>S</td>\n",
              "      <td>Canada</td>\n",
              "      <td>113781.0</td>\n",
              "      <td>151.1600</td>\n",
              "      <td>1</td>\n",
              "      <td>passenger</td>\n",
              "    </tr>\n",
              "    <tr>\n",
              "      <th>...</th>\n",
              "      <td>...</td>\n",
              "      <td>...</td>\n",
              "      <td>...</td>\n",
              "      <td>...</td>\n",
              "      <td>...</td>\n",
              "      <td>...</td>\n",
              "      <td>...</td>\n",
              "      <td>...</td>\n",
              "      <td>...</td>\n",
              "      <td>...</td>\n",
              "    </tr>\n",
              "    <tr>\n",
              "      <th>2185</th>\n",
              "      <td>Windebank, Mr. Alfred Edgar</td>\n",
              "      <td>male</td>\n",
              "      <td>38.000000</td>\n",
              "      <td>victualling crew</td>\n",
              "      <td>S</td>\n",
              "      <td>England</td>\n",
              "      <td>NaN</td>\n",
              "      <td>NaN</td>\n",
              "      <td>1</td>\n",
              "      <td>crew</td>\n",
              "    </tr>\n",
              "    <tr>\n",
              "      <th>2188</th>\n",
              "      <td>Witter, Mr. James William Cheetham</td>\n",
              "      <td>male</td>\n",
              "      <td>31.000000</td>\n",
              "      <td>victualling crew</td>\n",
              "      <td>S</td>\n",
              "      <td>England</td>\n",
              "      <td>NaN</td>\n",
              "      <td>NaN</td>\n",
              "      <td>1</td>\n",
              "      <td>crew</td>\n",
              "    </tr>\n",
              "    <tr>\n",
              "      <th>2200</th>\n",
              "      <td>Wright, Mr. William</td>\n",
              "      <td>male</td>\n",
              "      <td>40.000000</td>\n",
              "      <td>victualling crew</td>\n",
              "      <td>S</td>\n",
              "      <td>England</td>\n",
              "      <td>NaN</td>\n",
              "      <td>NaN</td>\n",
              "      <td>1</td>\n",
              "      <td>crew</td>\n",
              "    </tr>\n",
              "    <tr>\n",
              "      <th>2202</th>\n",
              "      <td>Wynn, Mr. Walter</td>\n",
              "      <td>male</td>\n",
              "      <td>41.000000</td>\n",
              "      <td>deck crew</td>\n",
              "      <td>B</td>\n",
              "      <td>England</td>\n",
              "      <td>NaN</td>\n",
              "      <td>NaN</td>\n",
              "      <td>1</td>\n",
              "      <td>crew</td>\n",
              "    </tr>\n",
              "    <tr>\n",
              "      <th>2203</th>\n",
              "      <td>Yearsley, Mr. Harry</td>\n",
              "      <td>male</td>\n",
              "      <td>40.000000</td>\n",
              "      <td>victualling crew</td>\n",
              "      <td>S</td>\n",
              "      <td>England</td>\n",
              "      <td>NaN</td>\n",
              "      <td>NaN</td>\n",
              "      <td>1</td>\n",
              "      <td>crew</td>\n",
              "    </tr>\n",
              "  </tbody>\n",
              "</table>\n",
              "<p>352 rows × 10 columns</p>\n",
              "</div>\n",
              "      <button class=\"colab-df-convert\" onclick=\"convertToInteractive('df-4beecddb-5b61-4054-9e86-78d164115e27')\"\n",
              "              title=\"Convert this dataframe to an interactive table.\"\n",
              "              style=\"display:none;\">\n",
              "        \n",
              "  <svg xmlns=\"http://www.w3.org/2000/svg\" height=\"24px\"viewBox=\"0 0 24 24\"\n",
              "       width=\"24px\">\n",
              "    <path d=\"M0 0h24v24H0V0z\" fill=\"none\"/>\n",
              "    <path d=\"M18.56 5.44l.94 2.06.94-2.06 2.06-.94-2.06-.94-.94-2.06-.94 2.06-2.06.94zm-11 1L8.5 8.5l.94-2.06 2.06-.94-2.06-.94L8.5 2.5l-.94 2.06-2.06.94zm10 10l.94 2.06.94-2.06 2.06-.94-2.06-.94-.94-2.06-.94 2.06-2.06.94z\"/><path d=\"M17.41 7.96l-1.37-1.37c-.4-.4-.92-.59-1.43-.59-.52 0-1.04.2-1.43.59L10.3 9.45l-7.72 7.72c-.78.78-.78 2.05 0 2.83L4 21.41c.39.39.9.59 1.41.59.51 0 1.02-.2 1.41-.59l7.78-7.78 2.81-2.81c.8-.78.8-2.07 0-2.86zM5.41 20L4 18.59l7.72-7.72 1.47 1.35L5.41 20z\"/>\n",
              "  </svg>\n",
              "      </button>\n",
              "      \n",
              "  <style>\n",
              "    .colab-df-container {\n",
              "      display:flex;\n",
              "      flex-wrap:wrap;\n",
              "      gap: 12px;\n",
              "    }\n",
              "\n",
              "    .colab-df-convert {\n",
              "      background-color: #E8F0FE;\n",
              "      border: none;\n",
              "      border-radius: 50%;\n",
              "      cursor: pointer;\n",
              "      display: none;\n",
              "      fill: #1967D2;\n",
              "      height: 32px;\n",
              "      padding: 0 0 0 0;\n",
              "      width: 32px;\n",
              "    }\n",
              "\n",
              "    .colab-df-convert:hover {\n",
              "      background-color: #E2EBFA;\n",
              "      box-shadow: 0px 1px 2px rgba(60, 64, 67, 0.3), 0px 1px 3px 1px rgba(60, 64, 67, 0.15);\n",
              "      fill: #174EA6;\n",
              "    }\n",
              "\n",
              "    [theme=dark] .colab-df-convert {\n",
              "      background-color: #3B4455;\n",
              "      fill: #D2E3FC;\n",
              "    }\n",
              "\n",
              "    [theme=dark] .colab-df-convert:hover {\n",
              "      background-color: #434B5C;\n",
              "      box-shadow: 0px 1px 3px 1px rgba(0, 0, 0, 0.15);\n",
              "      filter: drop-shadow(0px 1px 2px rgba(0, 0, 0, 0.3));\n",
              "      fill: #FFFFFF;\n",
              "    }\n",
              "  </style>\n",
              "\n",
              "      <script>\n",
              "        const buttonEl =\n",
              "          document.querySelector('#df-4beecddb-5b61-4054-9e86-78d164115e27 button.colab-df-convert');\n",
              "        buttonEl.style.display =\n",
              "          google.colab.kernel.accessAllowed ? 'block' : 'none';\n",
              "\n",
              "        async function convertToInteractive(key) {\n",
              "          const element = document.querySelector('#df-4beecddb-5b61-4054-9e86-78d164115e27');\n",
              "          const dataTable =\n",
              "            await google.colab.kernel.invokeFunction('convertToInteractive',\n",
              "                                                     [key], {});\n",
              "          if (!dataTable) return;\n",
              "\n",
              "          const docLinkHtml = 'Like what you see? Visit the ' +\n",
              "            '<a target=\"_blank\" href=https://colab.research.google.com/notebooks/data_table.ipynb>data table notebook</a>'\n",
              "            + ' to learn more about interactive tables.';\n",
              "          element.innerHTML = '';\n",
              "          dataTable['output_type'] = 'display_data';\n",
              "          await google.colab.output.renderOutput(dataTable, element);\n",
              "          const docLink = document.createElement('div');\n",
              "          docLink.innerHTML = docLinkHtml;\n",
              "          element.appendChild(docLink);\n",
              "        }\n",
              "      </script>\n",
              "    </div>\n",
              "  </div>\n",
              "  "
            ],
            "text/plain": [
              "                                          name gender  ...  survived       type\n",
              "5                Abelseth, Mr. Olaus Jørgensen   male  ...         1  passenger\n",
              "8                 Abī-Al-Munà, Mr. Nāsīf Qāsim   male  ...         1  passenger\n",
              "9     Abrahamsson, Mr. Abraham August Johannes   male  ...         1  passenger\n",
              "13                   Aks, Master. Frank Philip   male  ...         1  passenger\n",
              "22              Allison, Master. Hudson Trevor   male  ...         1  passenger\n",
              "...                                        ...    ...  ...       ...        ...\n",
              "2185               Windebank, Mr. Alfred Edgar   male  ...         1       crew\n",
              "2188        Witter, Mr. James William Cheetham   male  ...         1       crew\n",
              "2200                       Wright, Mr. William   male  ...         1       crew\n",
              "2202                          Wynn, Mr. Walter   male  ...         1       crew\n",
              "2203                       Yearsley, Mr. Harry   male  ...         1       crew\n",
              "\n",
              "[352 rows x 10 columns]"
            ]
          },
          "metadata": {},
          "execution_count": 3
        }
      ]
    },
    {
      "cell_type": "markdown",
      "metadata": {
        "id": "xabQIG56Jtaw"
      },
      "source": [
        "Besides `&`, there are two other logical operators that can be used to modify and combine boolean masks.\n",
        "\n",
        "- `&` means \"and\"\n",
        "- `|` means \"or\"\n",
        "- `~` means \"not\"\n",
        "\n",
        "Like `&`, the operators `|` and `~` are broadcast over the boolean masks."
      ]
    },
    {
      "cell_type": "markdown",
      "metadata": {
        "id": "tbOe6iaWJtaw"
      },
      "source": [
        "## Exercises"
      ]
    },
    {
      "cell_type": "markdown",
      "metadata": {
        "id": "joCIoBDTJtax"
      },
      "source": [
        "_Exercises 1-2 ask you to continue working with the Titanic data set explored in this lesson._"
      ]
    },
    {
      "cell_type": "markdown",
      "metadata": {
        "id": "1GsCobcZJtax"
      },
      "source": [
        "1\\. What proportion of crew members were male? Express your answer using probability notation. How does this proportion differ from the proportion that was calculated in the lesson?"
      ]
    },
    {
      "cell_type": "code",
      "source": [
        "df_crew = df_titanic[(df_titanic[\"type\"] == \"crew\")]\n",
        "df_crew[\"gender\"].value_counts(normalize=True)"
      ],
      "metadata": {
        "id": "MBCpTrt82AgG",
        "outputId": "fefb91df-a0f8-4cee-8097-57bb5edf376d",
        "colab": {
          "base_uri": "https://localhost:8080/"
        }
      },
      "execution_count": 61,
      "outputs": [
        {
          "output_type": "execute_result",
          "data": {
            "text/plain": [
              "male      0.974157\n",
              "female    0.025843\n",
              "Name: gender, dtype: float64"
            ]
          },
          "metadata": {},
          "execution_count": 61
        }
      ]
    },
    {
      "cell_type": "markdown",
      "source": [
        "The proportion of crew members that were male is P(male|crew) = 0.974157. This is different than the amount of males that are crew members significantly, as P(crew|male) = 0.504657"
      ],
      "metadata": {
        "id": "xvXhoNUWD95N"
      }
    },
    {
      "cell_type": "markdown",
      "metadata": {
        "id": "YMb6xZ8-Jtay"
      },
      "source": [
        "2\\. What is the distribution of gender among passengers on the Titanic? What is the distribution of gender among passengers on the Titanic who survived? Express your answers using probability notation."
      ]
    },
    {
      "cell_type": "code",
      "source": [
        "df_passengers = df_titanic[(df_titanic[\"type\"] == \"passenger\")]\n",
        "df_passengers[\"gender\"].value_counts(normalize=True)"
      ],
      "metadata": {
        "colab": {
          "base_uri": "https://localhost:8080/"
        },
        "id": "m3ANKFJS4zed",
        "outputId": "7db493e6-e3c8-406c-e5b9-96f96cb244ef"
      },
      "execution_count": 30,
      "outputs": [
        {
          "output_type": "execute_result",
          "data": {
            "text/plain": [
              "male      0.646166\n",
              "female    0.353834\n",
              "Name: gender, dtype: float64"
            ]
          },
          "metadata": {},
          "execution_count": 30
        }
      ]
    },
    {
      "cell_type": "markdown",
      "source": [
        "The distribution of gender among passengers on the Titanic was P(male|passenger) = 0.646166 and P(female|passenger) = 0.353834"
      ],
      "metadata": {
        "id": "tUHYJ3BV7m2z"
      }
    },
    {
      "cell_type": "code",
      "source": [
        "df_passengers_survived = df_titanic[(df_titanic[\"type\"] == \"passenger\") & (df_titanic[\"survived\"] == 1)]\n",
        "df_passengers_survived[\"gender\"].value_counts(normalize=True)"
      ],
      "metadata": {
        "colab": {
          "base_uri": "https://localhost:8080/"
        },
        "id": "V3xKklav6aOQ",
        "outputId": "b481bd64-5d29-4596-9803-859fc0a384b8"
      },
      "execution_count": 19,
      "outputs": [
        {
          "output_type": "execute_result",
          "data": {
            "text/plain": [
              "female    0.678\n",
              "male      0.322\n",
              "Name: gender, dtype: float64"
            ]
          },
          "metadata": {},
          "execution_count": 19
        }
      ]
    },
    {
      "cell_type": "markdown",
      "source": [
        "The gender distribution of passengers that survived on the titanic was P(male|passenger, survived) = 0.322 and P(female|passenger, survived) = 0.678"
      ],
      "metadata": {
        "id": "o_g88E5UCa3z"
      }
    },
    {
      "cell_type": "markdown",
      "metadata": {
        "id": "QZ16JR0GJtaz"
      },
      "source": [
        "_Exercises 3-5 deal with the OKCupid data set, which consists of user profiles in the San Francisco Bay Area on the dating website OKCupid. This data set is available at the URL https://dlsun.github.io/pods/data/okcupid.csv._"
      ]
    },
    {
      "cell_type": "markdown",
      "metadata": {
        "id": "jSNtXGq1Jta0"
      },
      "source": [
        "3\\. Make a visualization of the distribution of drinking status."
      ]
    },
    {
      "cell_type": "code",
      "source": [
        "import pandas as pd\n",
        "\n",
        "data_dir = \"http://dlsun.github.io/pods/data/\"\n",
        "df_okcupid = pd.read_csv(data_dir + \"okcupid.csv\")\n",
        "\n",
        "drink_counts = df_okcupid[\"drinks\"].value_counts(normalize=\"true\")\n",
        "\n",
        "drinks_sorted = drink_counts.loc[[\"not at all\", \"rarely\", \"socially\",\n",
        "     \"often\", \"very often\", \"desperately\"]]\n",
        "\n",
        "drinks_sorted.plot.bar()"
      ],
      "metadata": {
        "colab": {
          "base_uri": "https://localhost:8080/",
          "height": 331
        },
        "id": "PerZ7fQF5VyH",
        "outputId": "5e79b9ea-94c7-49f3-ea95-276513818b03"
      },
      "execution_count": 59,
      "outputs": [
        {
          "output_type": "execute_result",
          "data": {
            "text/plain": [
              "<matplotlib.axes._subplots.AxesSubplot at 0x7f2dd4e24690>"
            ]
          },
          "metadata": {},
          "execution_count": 59
        },
        {
          "output_type": "display_data",
          "data": {
            "image/png": "[encoded data removed]",
            "text/plain": [
              "<Figure size 432x288 with 1 Axes>"
            ]
          },
          "metadata": {
            "needs_background": "light"
          }
        }
      ]
    },
    {
      "cell_type": "markdown",
      "metadata": {
        "id": "YuMsp3GLJta1"
      },
      "source": [
        "4\\. Create a new variable that indicates whether the user has, likes, or dislikes cats. Visualize the distribution of this variable."
      ]
    },
    {
      "cell_type": "code",
      "source": [
        "petsNaN = pd.isna(df_okcupid[\"pets\"])\n",
        "df_pets = df_okcupid[~petsNaN]\n",
        "\n",
        "df_okcupid[\"cats\"] = df_okcupid[\"pets\"].map({\n",
        "    \"dislikes dogs and likes cats\": \"likes cats\",\n",
        "    \"likes cats\": \"likes cats\",\n",
        "    \"likes dogs and likes cats\": \"likes cats\",\n",
        "\n",
        "    \"dislikes dogs and dislikes cats\": \"dislikes cats\",\n",
        "    \"dislikes cats\": \"dislikes cats\",\n",
        "    \"likes dogs and dislikes cats\": \"dislikes cats\",\n",
        "    \n",
        "    \"dislikes dogs and has cats\": \"has cats\",\n",
        "    \"has cats\": \"has cats\",\n",
        "    \"likes dogs and has cats\": \"has cats\",\n",
        "})\n",
        "\n",
        "df_cats = df_okcupid[\"cats\"].value_counts(normalize = \"true\")\n",
        "\n",
        "df_cats_sorted = df_cats.loc[[\"dislikes cats\", \"likes cats\", \"has cats\"]]\n",
        "\n",
        "df_cats_sorted.plot.bar()"
      ],
      "metadata": {
        "colab": {
          "base_uri": "https://localhost:8080/",
          "height": 334
        },
        "id": "VccKSb6n6K7y",
        "outputId": "213321a2-cef4-45ac-8422-5e7242309052"
      },
      "execution_count": 60,
      "outputs": [
        {
          "output_type": "execute_result",
          "data": {
            "text/plain": [
              "<matplotlib.axes._subplots.AxesSubplot at 0x7f2dd4d937d0>"
            ]
          },
          "metadata": {},
          "execution_count": 60
        },
        {
          "output_type": "display_data",
          "data": {
            "image/png": "[encoded data removed]",
            "text/plain": [
              "<Figure size 432x288 with 1 Axes>"
            ]
          },
          "metadata": {
            "needs_background": "light"
          }
        }
      ]
    },
    {
      "cell_type": "markdown",
      "metadata": {
        "id": "beEYGriXJta2"
      },
      "source": [
        "5\\. If you were a heterosexual female interested in dating a non-smoker, how many options would you have in this data set?"
      ]
    },
    {
      "cell_type": "code",
      "source": [
        "df_options = df_okcupid[(df_okcupid[\"sex\"] == \"m\")]\n",
        "df_options[\"smokes\"].value_counts()"
      ],
      "metadata": {
        "colab": {
          "base_uri": "https://localhost:8080/"
        },
        "id": "8DrOD_wPMh1f",
        "outputId": "77bd7674-1e8a-4ee5-d084-f2fa5743ca8c"
      },
      "execution_count": 58,
      "outputs": [
        {
          "output_type": "execute_result",
          "data": {
            "text/plain": [
              "no                1281\n",
              "sometimes          113\n",
              "when drinking       91\n",
              "yes                 60\n",
              "trying to quit      55\n",
              "Name: smokes, dtype: int64"
            ]
          },
          "metadata": {},
          "execution_count": 58
        }
      ]
    },
    {
      "cell_type": "markdown",
      "source": [
        "From this data set you would have 1281 options for males that do not smoke. "
      ],
      "metadata": {
        "id": "Ze08NjYdOEnL"
      }
    }
  ]
}